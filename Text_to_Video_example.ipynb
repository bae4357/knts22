{
 "cells": [
  {
   "cell_type": "markdown",
   "metadata": {
    "colab_type": "text",
    "id": "view-in-github"
   },
   "source": [
    "<a href=\"https://colab.research.google.com/github/SamurAIGPT/Text-To-Video-AI/blob/main/Text_to_Video_example.ipynb\" target=\"_parent\"><img src=\"https://colab.research.google.com/assets/colab-badge.svg\" alt=\"Open In Colab\"/></a>"
   ]
  },
  {
   "cell_type": "code",
   "execution_count": 1,
   "metadata": {
    "id": "1y66YFE9lHu0"
   },
   "outputs": [],
   "source": [
    "import os\n",
    "\n",
    "#for text generation, use openai or groq. groq model used: \"llama3-70b-8192\"\n",
    "#note: use just one\n",
    "os.environ[\"OPENAI_KEY\"]=\"",
    "os.environ['GROQ_API_KEY'] = \"",
    "os.environ[\"PEXELS_KEY\"]=\"""
   ]
  },
  {
   "cell_type": "code",
   "execution_count": 7,
   "metadata": {
    "colab": {
     "base_uri": "https://localhost:8080/"
    },
    "id": "2vXBl4iglcvW",
    "outputId": "855dcffb-716f-49cb-947e-97eaa7ea7b31",
    "scrolled": true
   },
   "outputs": [
    {
     "name": "stdout",
     "output_type": "stream",
     "text": [
      "script: Ulsan City facts: Ulsan is South Korea's 7th largest city. It's home to the world's largest automobile plant, run by Hyundai. The city has a 'Whale Museum' due to its historical significance in whale hunting. Ulsan is also known for its beautiful Taehwa River and Bamwoo Forest. It hosts the Ulsan International Film Festival, showcasing Korean and global cinema.\n",
      "Detected language: English\n",
      "[((0, 0.72), 'Olsen City'), ((0.72, 1.66), 'Facts Olsen'), ((1.66, 2.1), 'is South'), ((2.1, 3.0), \"Korea's 7th\"), ((3.0, 3.64), 'largest city'), ((3.64, 5.0), \"It's home\"), ((5.0, 5.62), \"to the world's\"), ((5.62, 5.94), 'largest'), ((5.94, 6.44), 'automobile'), ((6.44, 7.22), 'plant run'), ((7.22, 7.68), 'by Hyundai'), ((7.68, 9.16), 'The city'), ((9.16, 9.7), 'has a whale'), ((9.7, 10.46), 'museum due'), ((10.46, 10.78), 'to its'), ((10.78, 11.22), 'historical'), ((11.22, 11.86), 'significance in'), ((11.86, 12.72), 'whale hunting'), ((12.72, 14.14), 'Olsen is'), ((14.14, 14.9), 'also known'), ((14.9, 15.14), 'for its'), ((15.14, 15.62), 'beautiful'), ((15.62, 16.4), 'Thaiwha river'), ((16.4, 16.98), 'and bamboo'), ((16.98, 17.36), 'forest It'), ((17.36, 18.82), 'hosts the'), ((18.82, 19.36), 'Olsen'), ((19.36, 19.88), 'International'), ((19.88, 20.72), 'Film Festival'), ((20.72, 21.52), 'showcasing'), ((21.52, 21.92), 'Korean and'), ((21.92, 22.9), 'global cinema')]\n",
      "Content Script: Ulsan City facts: Ulsan is South Korea's 7th largest city. It's home to the world's largest automobile plant, run by Hyundai. The city has a 'Whale Museum' due to its historical significance in whale hunting. Ulsan is also known for its beautiful Taehwa River and Bamwoo Forest. It hosts the Ulsan International Film Festival, showcasing Korean and global cinema.\n",
      "Timed Captions:((0, 0.72), 'Olsen City')((0.72, 1.66), 'Facts Olsen')((1.66, 2.1), 'is South')((2.1, 3.0), \"Korea's 7th\")((3.0, 3.64), 'largest city')((3.64, 5.0), \"It's home\")((5.0, 5.62), \"to the world's\")((5.62, 5.94), 'largest')((5.94, 6.44), 'automobile')((6.44, 7.22), 'plant run')((7.22, 7.68), 'by Hyundai')((7.68, 9.16), 'The city')((9.16, 9.7), 'has a whale')((9.7, 10.46), 'museum due')((10.46, 10.78), 'to its')((10.78, 11.22), 'historical')((11.22, 11.86), 'significance in')((11.86, 12.72), 'whale hunting')((12.72, 14.14), 'Olsen is')((14.14, 14.9), 'also known')((14.9, 15.14), 'for its')((15.14, 15.62), 'beautiful')((15.62, 16.4), 'Thaiwha river')((16.4, 16.98), 'and bamboo')((16.98, 17.36), 'forest It')((17.36, 18.82), 'hosts the')((18.82, 19.36), 'Olsen')((19.36, 19.88), 'International')((19.88, 20.72), 'Film Festival')((20.72, 21.52), 'showcasing')((21.52, 21.92), 'Korean and')((21.92, 22.9), 'global cinema')\n",
      "\n",
      "Text [[[0, 0.72], [\"cityscape\"]], [[0.72, 1.66], [\"city facts\"]], [[1.66, 2.1], [\"South Korea\"]], [[2.1, 3.0], [\"7th largest\"]], [[3.0, 3.64], [\"urban city\"]], [[3.64, 5.0], [\"automobile factory\"]], [[5.0, 5.62], [\"world's largest\"]], [[5.62, 5.94], [\"large factory\"]], [[5.94, 6.44], [\"car manufacturing\"]], [[6.44, 7.22], [\"Hyundai factory\"]], [[7.22, 7.68], [\"Hyundai logo\"]], [[7.68, 9.16], [\"city museum\"]], [[9.16, 9.7], [\"whale museum\"]], [[9.7, 10.46], [\"whale exhibit\"]], [[10.46, 10.78], [\"historical site\"]], [[10.78, 11.22], [\"whaling history\"]], [[11.22, 11.86], [\"whale hunting\"]], [[11.86, 12.72], [\"old whaling\"]], [[12.72, 14.14], [\"river cityscape\"]], [[14.14, 14.9], [\"urban river\"]], [[14.9, 15.14], [\"city forest\"]], [[15.14, 15.62], [\"beautiful river\"]], [[15.62, 16.4], [\"river landscape\"]], [[16.4, 16.98], [\"bamboo forest\"]], [[16.98, 17.36], [\"forest scenery\"]], [[17.36, 18.82], [\"film festival\"]], [[18.82, 19.36], [\"international film\"]], [[19.36, 19.88], [\"movie festival\"]], [[19.88, 20.72], [\"Korean cinema\"]], [[20.72, 21.52], [\"global film\"]], [[21.52, 21.92], [\"film showcase\"]], [[21.92, 22.9], [\"cinema festival\"]]]\n",
      "content: \n",
      " [[[0, 0.72], [\"cityscape\"]], [[0.72, 1.66], [\"city facts\"]], [[1.66, 2.1], [\"South Korea\"]], [[2.1, 3.0], [\"7th largest\"]], [[3.0, 3.64], [\"urban city\"]], [[3.64, 5.0], [\"automobile factory\"]], [[5.0, 5.62], [\"world\"s largest\"]], [[5.62, 5.94], [\"large factory\"]], [[5.94, 6.44], [\"car manufacturing\"]], [[6.44, 7.22], [\"Hyundai factory\"]], [[7.22, 7.68], [\"Hyundai logo\"]], [[7.68, 9.16], [\"city museum\"]], [[9.16, 9.7], [\"whale museum\"]], [[9.7, 10.46], [\"whale exhibit\"]], [[10.46, 10.78], [\"historical site\"]], [[10.78, 11.22], [\"whaling history\"]], [[11.22, 11.86], [\"whale hunting\"]], [[11.86, 12.72], [\"old whaling\"]], [[12.72, 14.14], [\"river cityscape\"]], [[14.14, 14.9], [\"urban river\"]], [[14.9, 15.14], [\"city forest\"]], [[15.14, 15.62], [\"beautiful river\"]], [[15.62, 16.4], [\"river landscape\"]], [[16.4, 16.98], [\"bamboo forest\"]], [[16.98, 17.36], [\"forest scenery\"]], [[17.36, 18.82], [\"film festival\"]], [[18.82, 19.36], [\"international film\"]], [[19.36, 19.88], [\"movie festival\"]], [[19.88, 20.72], [\"Korean cinema\"]], [[20.72, 21.52], [\"global film\"]], [[21.52, 21.92], [\"film showcase\"]], [[21.92, 22.9], [\"cinema festival\"]]] \n",
      "\n",
      "\n",
      "Expecting ',' delimiter: line 1 column 217 (char 216)\n",
      "error in response Expecting ',' delimiter: line 1 column 217 (char 216)\n",
      "None\n",
      "No background video\n"
     ]
    },
    {
     "name": "stderr",
     "output_type": "stream",
     "text": [
      "\n",
      "  0%|          | 0/2390 [00:00<?, ?frames/s]\n",
      "100%|##########| 2390/2390 [00:01<00:00, 1214.40frames/s]\n",
      "100%|##########| 2390/2390 [00:01<00:00, 1214.40frames/s]\n",
      "Traceback (most recent call last):\n",
      "  File \"C:\\Users\\bsh\\Text-To-Video-AI\\app.py\", line 44, in <module>\n",
      "    background_video_urls = merge_empty_intervals(background_video_urls)\n",
      "                            ^^^^^^^^^^^^^^^^^^^^^^^^^^^^^^^^^^^^^^^^^^^^\n",
      "  File \"C:\\Users\\bsh\\Text-To-Video-AI\\utility\\video\\video_search_query_generator.py\", line 95, in merge_empty_intervals\n",
      "    while i < len(segments):\n",
      "              ^^^^^^^^^^^^^\n",
      "TypeError: object of type 'NoneType' has no len()\n"
     ]
    }
   ],
   "source": [
    "!python app.py \"Ulsan_City\""
   ]
  },
  {
   "cell_type": "markdown",
   "metadata": {
    "id": "INuevyW2DEL_"
   },
   "source": [
    "### Display video"
   ]
  },
  {
   "cell_type": "code",
   "execution_count": 3,
   "metadata": {
    "colab": {
     "base_uri": "https://localhost:8080/",
     "height": 501
    },
    "id": "Slwx-FN_XPcB",
    "outputId": "266408f3-af82-4696-cd2c-b2f9790e2b7c",
    "scrolled": true
   },
   "outputs": [
    {
     "ename": "FileNotFoundError",
     "evalue": "[Errno 2] No such file or directory: 'rendered_video.mp4'",
     "output_type": "error",
     "traceback": [
      "\u001b[31m---------------------------------------------------------------------------\u001b[39m",
      "\u001b[31mFileNotFoundError\u001b[39m                         Traceback (most recent call last)",
      "\u001b[36mCell\u001b[39m\u001b[36m \u001b[39m\u001b[32mIn[3]\u001b[39m\u001b[32m, line 19\u001b[39m\n\u001b[32m     12\u001b[39m     \u001b[38;5;28;01mreturn\u001b[39;00m HTML(\u001b[33mf\u001b[39m\u001b[33m\"\"\"\u001b[39m\n\u001b[32m     13\u001b[39m \u001b[33m    <video width=\u001b[39m\u001b[38;5;132;01m{\u001b[39;00mwidth\u001b[38;5;132;01m}\u001b[39;00m\u001b[33m height=\u001b[39m\u001b[38;5;132;01m{\u001b[39;00mheight\u001b[38;5;132;01m}\u001b[39;00m\u001b[33m controls>\u001b[39m\n\u001b[32m     14\u001b[39m \u001b[33m        <source src=\u001b[39m\u001b[33m\"\u001b[39m\u001b[38;5;132;01m{\u001b[39;00mvideo_url\u001b[38;5;132;01m}\u001b[39;00m\u001b[33m\"\u001b[39m\u001b[33m type=\u001b[39m\u001b[33m\"\u001b[39m\u001b[33mvideo/mp4\u001b[39m\u001b[33m\"\u001b[39m\u001b[33m>\u001b[39m\n\u001b[32m     15\u001b[39m \u001b[33m    </video>\u001b[39m\n\u001b[32m     16\u001b[39m \u001b[33m    \u001b[39m\u001b[33m\"\"\"\u001b[39m)\n\u001b[32m     18\u001b[39m \u001b[38;5;66;03m# Display video\u001b[39;00m\n\u001b[32m---> \u001b[39m\u001b[32m19\u001b[39m \u001b[43mdisplay_video\u001b[49m\u001b[43m(\u001b[49m\u001b[43mvideo_path\u001b[49m\u001b[43m)\u001b[49m\n",
      "\u001b[36mCell\u001b[39m\u001b[36m \u001b[39m\u001b[32mIn[3]\u001b[39m\u001b[32m, line 10\u001b[39m, in \u001b[36mdisplay_video\u001b[39m\u001b[34m(video_path, width, height)\u001b[39m\n\u001b[32m      8\u001b[39m \u001b[38;5;28;01mdef\u001b[39;00m\u001b[38;5;250m \u001b[39m\u001b[34mdisplay_video\u001b[39m(video_path, width=\u001b[32m640\u001b[39m, height=\u001b[32m480\u001b[39m):\n\u001b[32m      9\u001b[39m     \u001b[38;5;66;03m# Load video\u001b[39;00m\n\u001b[32m---> \u001b[39m\u001b[32m10\u001b[39m     video_file = \u001b[38;5;28;43mopen\u001b[39;49m\u001b[43m(\u001b[49m\u001b[43mvideo_path\u001b[49m\u001b[43m,\u001b[49m\u001b[43m \u001b[49m\u001b[33;43m\"\u001b[39;49m\u001b[33;43mrb\u001b[39;49m\u001b[33;43m\"\u001b[39;49m\u001b[43m)\u001b[49m.read()\n\u001b[32m     11\u001b[39m     video_url = \u001b[33m\"\u001b[39m\u001b[33mdata:video/mp4;base64,\u001b[39m\u001b[33m\"\u001b[39m + b64encode(video_file).decode()\n\u001b[32m     12\u001b[39m     \u001b[38;5;28;01mreturn\u001b[39;00m HTML(\u001b[33mf\u001b[39m\u001b[33m\"\"\"\u001b[39m\n\u001b[32m     13\u001b[39m \u001b[33m    <video width=\u001b[39m\u001b[38;5;132;01m{\u001b[39;00mwidth\u001b[38;5;132;01m}\u001b[39;00m\u001b[33m height=\u001b[39m\u001b[38;5;132;01m{\u001b[39;00mheight\u001b[38;5;132;01m}\u001b[39;00m\u001b[33m controls>\u001b[39m\n\u001b[32m     14\u001b[39m \u001b[33m        <source src=\u001b[39m\u001b[33m\"\u001b[39m\u001b[38;5;132;01m{\u001b[39;00mvideo_url\u001b[38;5;132;01m}\u001b[39;00m\u001b[33m\"\u001b[39m\u001b[33m type=\u001b[39m\u001b[33m\"\u001b[39m\u001b[33mvideo/mp4\u001b[39m\u001b[33m\"\u001b[39m\u001b[33m>\u001b[39m\n\u001b[32m     15\u001b[39m \u001b[33m    </video>\u001b[39m\n\u001b[32m     16\u001b[39m \u001b[33m    \u001b[39m\u001b[33m\"\"\"\u001b[39m)\n",
      "\u001b[36mFile \u001b[39m\u001b[32m~\\anaconda3\\envs\\knts22\\Lib\\site-packages\\IPython\\core\\interactiveshell.py:326\u001b[39m, in \u001b[36m_modified_open\u001b[39m\u001b[34m(file, *args, **kwargs)\u001b[39m\n\u001b[32m    319\u001b[39m \u001b[38;5;28;01mif\u001b[39;00m file \u001b[38;5;129;01min\u001b[39;00m {\u001b[32m0\u001b[39m, \u001b[32m1\u001b[39m, \u001b[32m2\u001b[39m}:\n\u001b[32m    320\u001b[39m     \u001b[38;5;28;01mraise\u001b[39;00m \u001b[38;5;167;01mValueError\u001b[39;00m(\n\u001b[32m    321\u001b[39m         \u001b[33mf\u001b[39m\u001b[33m\"\u001b[39m\u001b[33mIPython won\u001b[39m\u001b[33m'\u001b[39m\u001b[33mt let you open fd=\u001b[39m\u001b[38;5;132;01m{\u001b[39;00mfile\u001b[38;5;132;01m}\u001b[39;00m\u001b[33m by default \u001b[39m\u001b[33m\"\u001b[39m\n\u001b[32m    322\u001b[39m         \u001b[33m\"\u001b[39m\u001b[33mas it is likely to crash IPython. If you know what you are doing, \u001b[39m\u001b[33m\"\u001b[39m\n\u001b[32m    323\u001b[39m         \u001b[33m\"\u001b[39m\u001b[33myou can use builtins\u001b[39m\u001b[33m'\u001b[39m\u001b[33m open.\u001b[39m\u001b[33m\"\u001b[39m\n\u001b[32m    324\u001b[39m     )\n\u001b[32m--> \u001b[39m\u001b[32m326\u001b[39m \u001b[38;5;28;01mreturn\u001b[39;00m \u001b[43mio_open\u001b[49m\u001b[43m(\u001b[49m\u001b[43mfile\u001b[49m\u001b[43m,\u001b[49m\u001b[43m \u001b[49m\u001b[43m*\u001b[49m\u001b[43margs\u001b[49m\u001b[43m,\u001b[49m\u001b[43m \u001b[49m\u001b[43m*\u001b[49m\u001b[43m*\u001b[49m\u001b[43mkwargs\u001b[49m\u001b[43m)\u001b[49m\n",
      "\u001b[31mFileNotFoundError\u001b[39m: [Errno 2] No such file or directory: 'rendered_video.mp4'"
     ]
    }
   ],
   "source": [
    "from IPython.display import HTML\n",
    "from base64 import b64encode\n",
    "\n",
    "# Path to the video file\n",
    "video_path = 'rendered_video.mp4'\n",
    "\n",
    "# Function to display video\n",
    "def display_video(video_path, width=640, height=480):\n",
    "    # Load video\n",
    "    video_file = open(video_path, \"rb\").read()\n",
    "    video_url = \"data:video/mp4;base64,\" + b64encode(video_file).decode()\n",
    "    return HTML(f\"\"\"\n",
    "    <video width={width} height={height} controls>\n",
    "        <source src=\"{video_url}\" type=\"video/mp4\">\n",
    "    </video>\n",
    "    \"\"\")\n",
    "\n",
    "# Display video\n",
    "display_video(video_path)"
   ]
  }
 ],
 "metadata": {
  "colab": {
   "authorship_tag": "ABX9TyMPPtmPbtNGrH2Nk9he4as+",
   "include_colab_link": true,
   "provenance": []
  },
  "kernelspec": {
   "display_name": "Python 3 (ipykernel)",
   "language": "python",
   "name": "python3"
  },
  "language_info": {
   "codemirror_mode": {
    "name": "ipython",
    "version": 3
   },
   "file_extension": ".py",
   "mimetype": "text/x-python",
   "name": "python",
   "nbconvert_exporter": "python",
   "pygments_lexer": "ipython3",
   "version": "3.11.11"
  }
 },
 "nbformat": 4,
 "nbformat_minor": 4
}
